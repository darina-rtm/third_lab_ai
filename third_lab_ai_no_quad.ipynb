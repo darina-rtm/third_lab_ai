{
 "cells": [
  {
   "cell_type": "markdown",
   "id": "5b5d9c03",
   "metadata": {
    "id": "5b5d9c03"
   },
   "source": [
    "# Визуализация данных с использованием matplotlib\n",
    "\n",
    "В этом ноутбуке реализованы задания по построению графиков, гистограмм, 3D-визуализации и индивидуальные задачи. Библиотеки: matplotlib, numpy."
   ]
  },
  {
   "cell_type": "markdown",
   "id": "2663ef2e",
   "metadata": {
    "id": "2663ef2e"
   },
   "source": [
    "## Задание 1: График y = x²"
   ]
  },
  {
   "cell_type": "code",
   "execution_count": null,
   "id": "89fba048",
   "metadata": {
    "id": "89fba048"
   },
   "outputs": [],
   "source": [
    "\n",
    "x = np.linspace(-10, 10, 400)\n",
    "y = x**2\n",
    "plt.plot(x, y)\n",
    "plt.title(\"График функции y = x²\")\n",
    "plt.xlabel(\"x\")\n",
    "plt.ylabel(\"y\")\n",
    "plt.grid(True)\n",
    "plt.show()\n"
   ]
  },
  {
   "cell_type": "markdown",
   "id": "972db7f0",
   "metadata": {
    "id": "972db7f0"
   },
   "source": [
    "## Задание 2: Несколько графиков на одном"
   ]
  },
  {
   "cell_type": "code",
   "execution_count": null,
   "id": "13f6e4c0",
   "metadata": {
    "id": "13f6e4c0"
   },
   "outputs": [],
   "source": [
    "\n",
    "x = np.linspace(-10, 10, 400)\n",
    "plt.plot(x, x, 'b--', label='y = x')\n",
    "plt.plot(x, x**2, 'g-.', label='y = x²')\n",
    "plt.plot(x, x**3, 'r-', label='y = x³')\n",
    "plt.legend()\n",
    "plt.title(\"Графики нескольких функций\")\n",
    "plt.axis('equal')\n",
    "plt.grid(True)\n",
    "plt.show()\n"
   ]
  },
  {
   "cell_type": "markdown",
   "id": "e4d17bf1",
   "metadata": {
    "id": "e4d17bf1"
   },
   "source": [
    "## Задание 3: Диаграмма рассеяния"
   ]
  },
  {
   "cell_type": "code",
   "execution_count": null,
   "id": "394e26b6",
   "metadata": {
    "id": "394e26b6"
   },
   "outputs": [],
   "source": [
    "\n",
    "x = np.random.rand(50)\n",
    "y = np.random.rand(50)\n",
    "colors = x\n",
    "sizes = y * 1000\n",
    "plt.scatter(x, y, c=colors, s=sizes, alpha=0.7)\n",
    "plt.colorbar(label='Значения X')\n",
    "plt.title(\"Диаграмма рассеяния\")\n",
    "plt.show()\n"
   ]
  },
  {
   "cell_type": "markdown",
   "id": "52b0377f",
   "metadata": {
    "id": "52b0377f"
   },
   "source": [
    "## Задание 4: Гистограмма нормального распределения"
   ]
  },
  {
   "cell_type": "code",
   "execution_count": null,
   "id": "5ca98d68",
   "metadata": {
    "id": "5ca98d68"
   },
   "outputs": [],
   "source": [
    "\n",
    "data = np.random.normal(0, 1, 1000)\n",
    "plt.hist(data, bins=30, alpha=0.7, color='steelblue')\n",
    "plt.axvline(np.mean(data), color='red', linestyle='dashed', linewidth=2)\n",
    "plt.title(\"Гистограмма нормального распределения\")\n",
    "plt.show()\n"
   ]
  },
  {
   "cell_type": "markdown",
   "id": "7621e94a",
   "metadata": {
    "id": "7621e94a"
   },
   "source": [
    "## Задание 5: Столбчатая диаграмма по оценкам студентов"
   ]
  },
  {
   "cell_type": "code",
   "execution_count": null,
   "id": "da8aea4f",
   "metadata": {
    "id": "da8aea4f"
   },
   "outputs": [],
   "source": [
    "\n",
    "labels = ['Отлично', 'Хорошо', 'Удовл.', 'Неуд.']\n",
    "values = [20, 35, 30, 15]\n",
    "plt.bar(labels, values, color='skyblue')\n",
    "plt.title(\"Распределение оценок студентов\")\n",
    "plt.xlabel(\"Оценка\")\n",
    "plt.ylabel(\"Количество\")\n",
    "plt.show()\n"
   ]
  },
  {
   "cell_type": "markdown",
   "id": "6231f158",
   "metadata": {
    "id": "6231f158"
   },
   "source": [
    "## Задание 6: Круговая диаграмма по оценкам"
   ]
  },
  {
   "cell_type": "code",
   "execution_count": null,
   "id": "edeec5fb",
   "metadata": {
    "id": "edeec5fb"
   },
   "outputs": [],
   "source": [
    "\n",
    "plt.pie(values, labels=labels, autopct='%1.1f%%', startangle=90)\n",
    "plt.title(\"Проценты оценок студентов\")\n",
    "plt.axis('equal')\n",
    "plt.show()\n"
   ]
  },
  {
   "cell_type": "markdown",
   "id": "c74d7071",
   "metadata": {
    "id": "c74d7071"
   },
   "source": [
    "## Задание 7: 3D-график функции z = sin(sqrt(x² + y²))"
   ]
  },
  {
   "cell_type": "code",
   "execution_count": null,
   "id": "a467f802",
   "metadata": {
    "id": "a467f802"
   },
   "outputs": [],
   "source": [
    "\n",
    "x = np.linspace(-5, 5, 100)\n",
    "y = np.linspace(-5, 5, 100)\n",
    "X, Y = np.meshgrid(x, y)\n",
    "Z = np.sin(np.sqrt(X**2 + Y**2))\n",
    "\n",
    "fig = plt.figure()\n",
    "ax = fig.add_subplot(111, projection='3d')\n",
    "ax.plot_surface(X, Y, Z, cmap='viridis')\n",
    "ax.set_title(\"z = sin(sqrt(x² + y²))\")\n",
    "ax.set_xlabel(\"x\")\n",
    "ax.set_ylabel(\"y\")\n",
    "ax.set_zlabel(\"z\")\n",
    "plt.show()\n"
   ]
  },
  {
   "cell_type": "markdown",
   "id": "55d9edf8",
   "metadata": {
    "id": "55d9edf8"
   },
   "source": [
    "## Задание 8: Сетка из 4 графиков"
   ]
  },
  {
   "cell_type": "code",
   "execution_count": null,
   "id": "a369f079",
   "metadata": {
    "id": "a369f079"
   },
   "outputs": [],
   "source": [
    "\n",
    "x = np.linspace(-10, 10, 400)\n",
    "fig, axs = plt.subplots(2, 2, figsize=(10, 8))\n",
    "\n",
    "axs[0, 0].plot(x, x)\n",
    "axs[0, 0].set_title(\"y = x\")\n",
    "\n",
    "axs[0, 1].plot(x, x**2)\n",
    "axs[0, 1].set_title(\"y = x²\")\n",
    "\n",
    "axs[1, 0].plot(x, np.sin(x))\n",
    "axs[1, 0].set_title(\"y = sin(x)\")\n",
    "\n",
    "axs[1, 1].plot(x, np.cos(x))\n",
    "axs[1, 1].set_title(\"y = cos(x)\")\n",
    "\n",
    "plt.tight_layout()\n",
    "plt.show()\n"
   ]
  },
  {
   "cell_type": "markdown",
   "id": "37e4f2f8",
   "metadata": {
    "id": "37e4f2f8"
   },
   "source": [
    "## Задание 9: Тепловая карта"
   ]
  },
  {
   "cell_type": "code",
   "execution_count": null,
   "id": "577587d3",
   "metadata": {
    "id": "577587d3"
   },
   "outputs": [],
   "source": [
    "\n",
    "matrix = np.random.rand(10, 10)\n",
    "plt.imshow(matrix, cmap='hot', interpolation='nearest')\n",
    "plt.colorbar()\n",
    "plt.title(\"Тепловая карта 10x10\")\n",
    "plt.show()\n"
   ]
  },
  {
   "cell_type": "markdown",
   "id": "36813719",
   "metadata": {
    "id": "36813719"
   },
   "source": [
    "## Индивидуальное задание 1: Температурные изменения"
   ]
  },
  {
   "cell_type": "code",
   "execution_count": null,
   "id": "1c9f80e1",
   "metadata": {
    "id": "1c9f80e1"
   },
   "outputs": [],
   "source": [
    "\n",
    "hours = [0, 3, 6, 9, 12, 15, 18, 21, 24]\n",
    "temps = [-5, -6, -4, 2, 8, 12, 10, 3, -2]\n",
    "colors = ['blue' if t < 0 else 'orange' for t in temps]\n",
    "plt.bar(hours, temps, color=colors)\n",
    "plt.title(\"Температура в течение суток\")\n",
    "plt.xlabel(\"Время (часы)\")\n",
    "plt.ylabel(\"Температура (°C)\")\n",
    "plt.grid(True)\n",
    "plt.show()\n"
   ]
  },
  {
   "cell_type": "markdown",
   "id": "250cb45f",
   "metadata": {
    "id": "250cb45f"
   },
   "source": [
    "## Индивидуальное задание 2: Публикации по областям"
   ]
  },
  {
   "cell_type": "code",
   "execution_count": null,
   "id": "fe60a319",
   "metadata": {
    "id": "fe60a319"
   },
   "outputs": [],
   "source": [
    "\n",
    "fields = ['Математика', 'Физика', 'Биология', 'Химия', 'Комп. науки']\n",
    "counts = [120, 90, 150, 110, 180]\n",
    "colors = ['gray'] * 5\n",
    "max_index = counts.index(max(counts))\n",
    "colors[max_index] = 'red'\n",
    "\n",
    "plt.barh(fields, counts, color=colors)\n",
    "plt.title(\"Научные публикации по областям знаний\")\n",
    "plt.xlabel(\"Количество публикаций\")\n",
    "plt.show()\n"
   ]
  },
  {
   "cell_type": "markdown",
   "id": "607d3a2e",
   "metadata": {
    "id": "607d3a2e"
   },
   "source": [
    "## Индивидуальное задание 3: Площадь под кривой f(x) = 2x + 3"
   ]
  },
  {
   "cell_type": "markdown",
   "id": "a8991da1",
   "metadata": {
    "id": "a8991da1"
   },
   "source": [
    "## Индивидуальное задание 4: Экспоненциальный гребень"
   ]
  },
  {
   "cell_type": "code",
   "execution_count": null,
   "id": "393b708e",
   "metadata": {
    "id": "393b708e"
   },
   "outputs": [],
   "source": [
    "\n",
    "x = np.linspace(-3, 3, 200)\n",
    "y = np.linspace(-3, 3, 200)\n",
    "X, Y = np.meshgrid(x, y)\n",
    "R = np.sqrt(X**2 + Y**2)\n",
    "Z = np.exp(-R) * np.cos(2 * np.pi * R)\n",
    "\n",
    "fig = plt.figure(figsize=(12, 6))\n",
    "\n",
    "ax1 = fig.add_subplot(121, projection='3d')\n",
    "surf = ax1.plot_surface(X, Y, Z, cmap='plasma')\n",
    "ax1.set_title(\"Экспоненциальный гребень (поверхность)\")\n",
    "ax1.set_xlabel(\"x\")\n",
    "ax1.set_ylabel(\"y\")\n",
    "ax1.set_zlabel(\"z\")\n",
    "fig.colorbar(surf, ax=ax1)\n",
    "\n",
    "ax2 = fig.add_subplot(122, projection='3d')\n",
    "ax2.plot_wireframe(X, Y, Z, color='green')\n",
    "ax2.set_title(\"Экспоненциальный гребень (каркас)\")\n",
    "ax2.set_xlabel(\"x\")\n",
    "ax2.set_ylabel(\"y\")\n",
    "ax2.set_zlabel(\"z\")\n",
    "\n",
    "plt.tight_layout()\n",
    "plt.show()\n"
   ]
  }
 ],
 "metadata": {
  "colab": {
   "provenance": []
  }
 },
 "nbformat": 4,
 "nbformat_minor": 5
}
